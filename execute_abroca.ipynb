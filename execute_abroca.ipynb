{
 "cells": [
  {
   "cell_type": "markdown",
   "metadata": {},
   "source": [
    "## Execution of ABROCA code\n",
    "This notebook will demonstrate a couple of ways to execute the ABROCA code for different purposes/outputs.\\\n",
    "Change paths and parameters to run"
   ]
  },
  {
   "cell_type": "code",
   "execution_count": null,
   "metadata": {},
   "outputs": [],
   "source": [
    "import abroca\n",
    "import pandas as pd\n",
    "import numpy as np"
   ]
  },
  {
   "cell_type": "markdown",
   "metadata": {},
   "source": [
    "#### Running on Binary Attributes\n",
    "The simplest way to run ABROCA, where two attributes being compared with each other. \\\n",
    "Ommit bootstrap if you do not want bootstraps, set getGraph = False if you do not want graph. "
   ]
  },
  {
   "cell_type": "code",
   "execution_count": null,
   "metadata": {},
   "outputs": [],
   "source": [
    "df = pd.read_csv(\"/Users/shent/Desktop/summer23/fairness/abroca_boot/lens_merged_recon34_10.csv\")\n",
    " \n",
    "df.name=\"Eedi_Small_LENS\"   # the name of the output folder\n",
    "actual=\"correct\"\n",
    "predicted=\"probability_correct\"\n",
    "bootstrap=10    # customize \n",
    "\n",
    "demographic=\"PremiumPupil\"\n",
    "\n",
    "bin1=1\n",
    "bin2=0\n",
    "\n",
    "abroca_val=abroca.ABROCA(df, demographic, actual, predicted, bin1, bin2, bootstrap=bootstrap, getGraph=True) \n",
    "print(f\"{abroca_val} (ABROCA value ({bin1} vs {bin2}) for {df.name} on {demographic})\")"
   ]
  },
  {
   "cell_type": "markdown",
   "metadata": {},
   "source": [
    "#### Multi-Classification Attributes\n",
    "Executes for attributes with more than two values to compare.\\\n",
    "\\\n",
    "Run the code block above for pairwise comparison.\\\n",
    "Run the code blocks below for 1-vs-all or 1-vs-others tests.\\\n",
    "Customize the value of bin2 as \"all\" or \"other\"."
   ]
  },
  {
   "cell_type": "code",
   "execution_count": null,
   "metadata": {},
   "outputs": [],
   "source": [
    "# These are all the same as above\n",
    "df = pd.read_csv(\"/Users/shent/Desktop/summer23/fairness/madd_boot/MAP_medium_recon_meta.csv\")\n",
    "\n",
    "df.name=\"MAP_medium\" # the name of the output folder\n",
    "actual=\"correct\"\n",
    "predicted=\"probability_correct\"\n",
    "bootstrap=10    # customize \n",
    "\n",
    "demographic=\"STUDENT_ETHNIC_GRD_KEY\""
   ]
  },
  {
   "cell_type": "code",
   "execution_count": null,
   "metadata": {},
   "outputs": [],
   "source": [
    "#customize here\n",
    "bin2=\"other\"  # bin2 = \"other\" or bin2 = \"all\""
   ]
  },
  {
   "cell_type": "code",
   "execution_count": null,
   "metadata": {},
   "outputs": [],
   "source": [
    "# This is also the same as binary\n",
    "abroca_val=abroca.ABROCA(df, demographic, actual, predicted, bin1, bin2, bootstrap=bootstrap, getGraph=True) \n",
    "print(f\"{abroca_val} (ABROCA value ({bin1} vs {bin2}) for {df.name} on {demographic})\")"
   ]
  },
  {
   "cell_type": "markdown",
   "metadata": {},
   "source": [
    "#### Aggregation and Bootstrapping the Aggregations\n",
    "\n",
    "The below code demonstrates how to aggregate (by addition) and bootstrap for aggregated results (the sums).\\\n",
    "Customize bin2 and number of bootstraps."
   ]
  },
  {
   "cell_type": "code",
   "execution_count": null,
   "metadata": {},
   "outputs": [],
   "source": [
    "# These are all the same as above\n",
    "df = pd.read_csv(\"/Users/shent/Desktop/summer23/fairness/madd_boot/MAP_medium_recon_meta.csv\")\n",
    "\n",
    "df.name=\"MAP_medium\" # the name of the output folder\n",
    "actual=\"correct\"\n",
    "predicted=\"probability_correct\"\n",
    "bootstrap=10    # customize \n",
    "\n",
    "demographic=\"STUDENT_ETHNIC_GRD_KEY\"\n"
   ]
  },
  {
   "cell_type": "code",
   "execution_count": null,
   "metadata": {},
   "outputs": [],
   "source": [
    "\n",
    "#customize here\n",
    "bin2=\"other\"  # bin2 = \"other\" or bin2 = \"all\""
   ]
  },
  {
   "cell_type": "code",
   "execution_count": null,
   "metadata": {},
   "outputs": [],
   "source": [
    "# getting the abroca value for all the classes and summing them up\n",
    "num_classes=df[demographic].nunique()\n",
    "classes=df[demographic].unique()\n",
    "abroca_val=0\n",
    "for i in range(num_classes):\n",
    "    bin1 = classes[i]\n",
    "    abroca_val=abroca.ABROCA(df, demographic, actual, predicted, bin1, bin2, bootstrap=False, getGraph=False)\n",
    "    abroca_val+=abroca\n",
    "\n",
    "print(f\"{abroca_val} (Sum of ABROCA value for {df.name} on {demographic})\")\n"
   ]
  },
  {
   "cell_type": "code",
   "execution_count": null,
   "metadata": {},
   "outputs": [],
   "source": [
    "num_boot=100 # customize number of bootstraps\n",
    "\n",
    "# shuffling the unique classes and mapping them back for each bootstrap(permutation)\n",
    "# For each bootstrap(permutation), caculate the sum of all abroca values and put them in a list\n",
    "# From that list, calculate the p-value of the actual sum\n",
    "\n",
    "abrocas=[]\n",
    "for j in range(num_boot):\n",
    "    np.random.shuffle(classes) \n",
    "\n",
    "    # Create a dictionary to map the shuffled labels to the original labels \n",
    "    shuffle_mapping = {original_label: shuffled_label for original_label, shuffled_label in zip(df[demographic].unique(), classes)} \n",
    "    df[demographic] = df[demographic].map(shuffle_mapping)\n",
    "\n",
    "    if j%20==0:\n",
    "        print(f\"bootstrap{j}\")\n",
    "\n",
    "    abroca_sum=0\n",
    "    for k in range(num_classes):\n",
    "        bin1 = classes[k]\n",
    "        abroca_val_boot=abroca.ABROCA(df, demographic, actual, predicted, bin1, bin2, bootstrap=False, getGraph=False)\n",
    "        abroca_sum+=abroca_val_boot\n",
    "    \n",
    "    abrocas.append(abroca_sum)\n",
    "\n",
    "p=len([x for x in abrocas if x > abroca_val])/len(abrocas)\n",
    "print(f\"Test statistic for aggregated abroca={abroca_val} in permutations: p={p}\")\n"
   ]
  }
 ],
 "metadata": {
  "language_info": {
   "name": "python"
  },
  "orig_nbformat": 4
 },
 "nbformat": 4,
 "nbformat_minor": 2
}
